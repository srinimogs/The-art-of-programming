{
 "cells": [
  {
   "cell_type": "markdown",
   "id": "d47353bb",
   "metadata": {},
   "source": [
    "### LSE Data Analytics Online Career Accelerator\n",
    "\n",
    "# DA201: Data Analytics using Python"
   ]
  },
  {
   "cell_type": "markdown",
   "id": "bb18b70e",
   "metadata": {},
   "source": [
    "## Data structures in Python (tutorial video)"
   ]
  },
  {
   "cell_type": "markdown",
   "id": "cd66bba2",
   "metadata": {},
   "source": [
    "*Use this Jupyter Notebook to follow along with the tutorial video. You can pause the video to make notes as comments or text blocks.*\n",
    "\n",
    "As a data analyst, you will need to organise your code blocks in a certain manner. This will help you to adhere to PEP 8 principles and make the code more accessible and readable. That’s why Python and other programming languages offer data structures as a way to group, store, and work with information. These structures come in a few forms.\n",
    "\n",
    "The built-in data structures of Python are lists, tuples, dictionaries, and sets. These structures are part of the fundamental building blocks of any Python code block. "
   ]
  },
  {
   "cell_type": "markdown",
   "id": "1ca91dd0",
   "metadata": {},
   "source": [
    "## 1. List"
   ]
  },
  {
   "cell_type": "code",
   "execution_count": null,
   "id": "470c2738",
   "metadata": {},
   "outputs": [],
   "source": [
    "# A list is an ordered sequence of elements.\n",
    "# Each element or value inside a list is called an item.\n",
    "myList = [24, 5, 'data']\n",
    "\n",
    "# View the list.\n",
    "myList"
   ]
  },
  {
   "cell_type": "code",
   "execution_count": null,
   "id": "ee3e1ecb",
   "metadata": {},
   "outputs": [],
   "source": [
    "# A list can have duplicate values.\n",
    "# Add another value for example 24.\n",
    "myList = [24, 5, 'data', 24]\n",
    "\n",
    "# View the list.\n",
    "myList"
   ]
  },
  {
   "cell_type": "code",
   "execution_count": null,
   "id": "110ca06a",
   "metadata": {},
   "outputs": [],
   "source": [
    "# Can alter each value in a list (lists = mutable objects).\n",
    "# Access each item in a list with the index position.\n",
    "# The index starts at 0.\n",
    "myList[0]"
   ]
  },
  {
   "cell_type": "code",
   "execution_count": null,
   "id": "f36b9964",
   "metadata": {},
   "outputs": [],
   "source": [
    "# What if you want to change the value of the first element in a list?\n",
    "myList[0] = 10\n",
    "\n",
    "# View the list.\n",
    "myList"
   ]
  },
  {
   "cell_type": "code",
   "execution_count": null,
   "id": "2e93b4cc",
   "metadata": {},
   "outputs": [],
   "source": [
    "# Count the number of items in a list.\n",
    "# Check the length with len() function.\n",
    "len(myList)"
   ]
  },
  {
   "cell_type": "markdown",
   "id": "7c09f25d",
   "metadata": {},
   "source": [
    "## 2. Tuple"
   ]
  },
  {
   "cell_type": "code",
   "execution_count": null,
   "id": "4f4a51af",
   "metadata": {},
   "outputs": [],
   "source": [
    "# Similar to lists.\n",
    "# Immutable objects (cannot change elements inside a tuple).\n",
    "# Create a tuple.\n",
    "myTuple = (10, 40, 50)\n",
    "\n",
    "# View the tuple.\n",
    "myTuple"
   ]
  },
  {
   "cell_type": "code",
   "execution_count": null,
   "id": "a7ec5371",
   "metadata": {},
   "outputs": [],
   "source": [
    "# Access item in a list with an index position.\n",
    "# The index starts at 0.\n",
    "myTuple[0]"
   ]
  },
  {
   "cell_type": "code",
   "execution_count": null,
   "id": "18f91b59",
   "metadata": {},
   "outputs": [],
   "source": [
    "# What if you want to change the value of the first element in a tuple?\n",
    "# Remember tuples are immutable objects.\n",
    "myTuple[0] = 100\n",
    "\n",
    "# View the tuple.\n",
    "myTuple"
   ]
  },
  {
   "cell_type": "code",
   "execution_count": null,
   "id": "53928a70",
   "metadata": {},
   "outputs": [],
   "source": [
    "# Get the maximum value from the tuple.\n",
    "max(myTuple)"
   ]
  },
  {
   "cell_type": "code",
   "execution_count": null,
   "id": "283e316c",
   "metadata": {},
   "outputs": [],
   "source": [
    "# Get the minimum value from the tuple.\n",
    "min(myTuple)"
   ]
  },
  {
   "cell_type": "markdown",
   "id": "c97171c6",
   "metadata": {},
   "source": [
    "## 3. Dictionary"
   ]
  },
  {
   "cell_type": "code",
   "execution_count": null,
   "id": "8fea02a6",
   "metadata": {},
   "outputs": [],
   "source": [
    "# Data has a unique reference that can be associated wtih a value.\n",
    "# Create a dictionary with the key:value method.\n",
    "myDictionary = {'key1':'Adam',\n",
    "                'key2':'Melbourne',\n",
    "                'key3':'Data Scientist',\n",
    "                'key4':'error'}\n",
    "\n",
    "# View the dictionary.\n",
    "myDictionary"
   ]
  },
  {
   "cell_type": "code",
   "execution_count": null,
   "id": "eb8a43c8",
   "metadata": {},
   "outputs": [],
   "source": [
    "# Access values inside a dictionary with the corresponding key value.\n",
    "myDictionary['key1']"
   ]
  },
  {
   "cell_type": "code",
   "execution_count": null,
   "id": "165e6b92",
   "metadata": {},
   "outputs": [],
   "source": [
    "# Access values inside a dictionary with the corresponding key value.\n",
    "myDictionary['key2']"
   ]
  },
  {
   "cell_type": "code",
   "execution_count": null,
   "id": "6c12a5a9",
   "metadata": {},
   "outputs": [],
   "source": [
    "# Access values inside a dictionary with the corresponding key value.\n",
    "myDictionary['key3']"
   ]
  },
  {
   "cell_type": "code",
   "execution_count": null,
   "id": "a0bba36e",
   "metadata": {},
   "outputs": [],
   "source": [
    "# Delete an element inside a dictionary.\n",
    "# Use the del keyword and the corresponding key.\n",
    "del myDictionary['key4']\n",
    "\n",
    "# View the dictionary.\n",
    "myDictionary"
   ]
  },
  {
   "cell_type": "markdown",
   "id": "cbb547ad",
   "metadata": {},
   "source": [
    "## 4. Set"
   ]
  },
  {
   "cell_type": "code",
   "execution_count": null,
   "id": "a32086e0",
   "metadata": {},
   "outputs": [],
   "source": [
    "# A set is an unordered collection of unique elements.\n",
    "# It cannot have duplicate values.\n",
    "# Create a set.\n",
    "mySet = {'apple', 'orange', 'grapes'}\n",
    "\n",
    "# View the set.\n",
    "mySet"
   ]
  },
  {
   "cell_type": "code",
   "execution_count": null,
   "id": "779b0ff3",
   "metadata": {},
   "outputs": [],
   "source": [
    "# Add a duplicate value, for example, apple.\n",
    "mySet = {'apple', 'orange', 'grapes', 'apple'}\n",
    "\n",
    "# View the set.\n",
    "mySet"
   ]
  },
  {
   "cell_type": "code",
   "execution_count": null,
   "id": "a4271538",
   "metadata": {},
   "outputs": [],
   "source": []
  }
 ],
 "metadata": {
  "kernelspec": {
   "display_name": "Python 3 (ipykernel)",
   "language": "python",
   "name": "python3"
  },
  "language_info": {
   "codemirror_mode": {
    "name": "ipython",
    "version": 3
   },
   "file_extension": ".py",
   "mimetype": "text/x-python",
   "name": "python",
   "nbconvert_exporter": "python",
   "pygments_lexer": "ipython3",
   "version": "3.9.12"
  }
 },
 "nbformat": 4,
 "nbformat_minor": 5
}
